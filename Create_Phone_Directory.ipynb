{
  "nbformat": 4,
  "nbformat_minor": 0,
  "metadata": {
    "colab": {
      "provenance": [],
      "authorship_tag": "ABX9TyN229D3z0odQLLjCqTdeLr3",
      "include_colab_link": true
    },
    "kernelspec": {
      "name": "python3",
      "display_name": "Python 3"
    },
    "language_info": {
      "name": "python"
    }
  },
  "cells": [
    {
      "cell_type": "markdown",
      "metadata": {
        "id": "view-in-github",
        "colab_type": "text"
      },
      "source": [
        "<a href=\"https://colab.research.google.com/github/AlqarniMohammed/Python_projects/blob/main/Create_Phone_Directory.ipynb\" target=\"_parent\"><img src=\"https://colab.research.google.com/assets/colab-badge.svg\" alt=\"Open In Colab\"/></a>"
      ]
    },
    {
      "cell_type": "markdown",
      "source": [
        "# **Project to Create a Phone Directory**"
      ],
      "metadata": {
        "id": "QqMw9elnTt89"
      }
    },
    {
      "cell_type": "markdown",
      "source": [
        "\n",
        "\n",
        "**Requirements**\n",
        "\n",
        "Build a program that represents a phone directory, which receives a phone number and returns the name of the person associated with that number. You can use the following table:\n",
        "\n",
        "| Name     | Number      |\n",
        "|----------|-------------|\n",
        "| Amal     | 1111111111  |\n",
        "| Mohammed | 2222222222  |\n",
        "| Khadijah | 3333333333  |\n",
        "| Abdullah | 4444444444  |\n",
        "| Rawan    | 5555555555  |\n",
        "| Faisal   | 6666666666  |\n",
        "| Layla    | 7777777777  |\n",
        "\n",
        "If a number in the directory is sent, the name of the person will be printed. If a number not found in the directory is entered, the message:\n",
        "```\n",
        "Sorry, the number is not found\n",
        "```\n",
        "will be printed.\n",
        "\n",
        "If the phone number is less than or more than 10 digits, or if it contains other values (such as letters, symbols, or logical values), the sentence:\n",
        "```\n",
        "This is invalid number\n",
        "```\n",
        "will be printed.\n",
        "\n",
        "**Additional Questions:**\n",
        "- Search by person's name.\n",
        "- Allow the program to let the user add a new user with their number to the directory."
      ],
      "metadata": {
        "id": "7bgITmwiSEye"
      }
    },
    {
      "cell_type": "markdown",
      "source": [
        "# **Program code**"
      ],
      "metadata": {
        "id": "YMlTJg6AVnSE"
      }
    },
    {
      "cell_type": "code",
      "execution_count": 2,
      "metadata": {
        "id": "jHYESR_f5AwM"
      },
      "outputs": [],
      "source": [
        "# Create a dictionary where key is phone number and value is name\n",
        "Telephone_book = {\"1111111111\":\"Amal\",\"2222222222\":\"Mohammed\",\"3333333333\":\"Awatef\",\n",
        "                  \"4444444444\":\"Nada\",\"5555555555\":\"Rawan\",\"6666666666\":\"Abdullah\",\n",
        "                  \"7777777777\":\"Reem\"}\n",
        "\n",
        "# Create another dictionary depends on first dictionary but here we switched between key and value\n",
        "Telephone_book2 = {value : key for key,value in Telephone_book.items()}\n",
        "\n",
        "# We defined a function that calls the name using the phone number\n",
        "def search_number():\n",
        "  number = input(\"Please write the phone number : \") # We made the phone number a user input\n",
        "# We started the function by requiring that the number be 10 digits and free of letters and symbols Or this number will be printed as invalid\n",
        "  if not number.isdigit() or len(number) != 10:\n",
        "    print(\"This is invalid number\")\n",
        "# If the number is present in the dictionary we defined, it will call up the name of the owner of the number\n",
        "  elif number in Telephone_book:\n",
        "     print('This is',Telephone_book[number],'phone number')\n",
        "# If the number is according to the conditions and is not found in the dictionary, it will be printed as not found\n",
        "  else:\n",
        "    print(\"Sorry, The number is not found\")\n",
        "\n",
        "# Here we have defined a function that searches for the phone number using the name\n",
        "# We also applied the same conditions to the phone number search function\n",
        "def search_name():\n",
        "  name = input(\"Please write your name: \")\n",
        "  if not name.isalpha():\n",
        "    print(\"This is invalid name\")\n",
        "  elif name in Telephone_book2:\n",
        "    print(name, \"Phone number is\", Telephone_book2[name])\n",
        "  else:\n",
        "    print(\"The name is not found\")\n",
        "\n",
        "# Here we have defined a function that allows the user to add a phone number to the dictionary\n",
        "def add_number():\n",
        "    new_number = input(\"Add your phone number:  \")\n",
        "    new_name = input(\"Write your name: \")\n",
        "# First, the function checks whether the number exists in the dictionary or not\n",
        "    if new_number in Telephone_book:\n",
        "      print(\"This phone number is already exist\")\n",
        "# The function also rejects unwanted formula\n",
        "    elif not new_number.isdigit() or len(new_number) != 10:\n",
        "      print(\"This is invalid number\")\n",
        "# The function also checks the form of the name\n",
        "    elif not new_name.isalpha():\n",
        "      print(\"This is invalid name\")\n",
        "    else:\n",
        "# After verifying the conditions, the phone number and name are added to the first and second dictionaries\n",
        "      print(\"Your number has been added\",Telephone_book.update({new_number:new_name})) ;\n",
        "      print(\"Your name has been added\", Telephone_book2.update({new_name:new_number}))"
      ]
    },
    {
      "cell_type": "markdown",
      "source": [
        "# **Program testing**\n",
        "Here we are tested the code"
      ],
      "metadata": {
        "id": "OqMvjH0YVXPN"
      }
    },
    {
      "cell_type": "code",
      "source": [
        "search_number()"
      ],
      "metadata": {
        "colab": {
          "base_uri": "https://localhost:8080/"
        },
        "id": "JruM5_KLM7pv",
        "outputId": "a8c2e481-1dba-45e9-e21f-26e6e4baf15b"
      },
      "execution_count": 5,
      "outputs": [
        {
          "output_type": "stream",
          "name": "stdout",
          "text": [
            "Please write the phone number : 2222222222\n",
            "This is Mohammed phone number\n"
          ]
        }
      ]
    },
    {
      "cell_type": "code",
      "source": [
        "search_number()"
      ],
      "metadata": {
        "colab": {
          "base_uri": "https://localhost:8080/"
        },
        "id": "0BnuGgRANJxk",
        "outputId": "e1751563-0482-4412-9687-fa47565466dd"
      },
      "execution_count": 22,
      "outputs": [
        {
          "output_type": "stream",
          "name": "stdout",
          "text": [
            "Please write the phone number : 2468657289\n",
            "Sorry, The number is not found\n"
          ]
        }
      ]
    },
    {
      "cell_type": "code",
      "source": [
        "search_name()"
      ],
      "metadata": {
        "colab": {
          "base_uri": "https://localhost:8080/"
        },
        "id": "qURBiCkPNVGj",
        "outputId": "b0cd6261-3220-4e68-ad2a-e0165003d8c8"
      },
      "execution_count": 23,
      "outputs": [
        {
          "output_type": "stream",
          "name": "stdout",
          "text": [
            "Please write your name: Amal\n",
            "Amal Phone number is 1111111111\n"
          ]
        }
      ]
    },
    {
      "cell_type": "code",
      "source": [
        "search_name()"
      ],
      "metadata": {
        "colab": {
          "base_uri": "https://localhost:8080/"
        },
        "id": "aCy7GQRsNaU1",
        "outputId": "eeee1131-06ad-4179-a0f8-07aaa1c47594"
      },
      "execution_count": 24,
      "outputs": [
        {
          "output_type": "stream",
          "name": "stdout",
          "text": [
            "Please write your name: Mohamme4\n",
            "This is invalid name\n"
          ]
        }
      ]
    },
    {
      "cell_type": "code",
      "source": [
        "search_name(\n",
        ")"
      ],
      "metadata": {
        "colab": {
          "base_uri": "https://localhost:8080/"
        },
        "id": "2S4fWBzZNge1",
        "outputId": "041c37eb-cd5b-4cf4-d1c2-efef137a802a"
      },
      "execution_count": 25,
      "outputs": [
        {
          "output_type": "stream",
          "name": "stdout",
          "text": [
            "Please write your name: Ali\n",
            "The name is not found\n"
          ]
        }
      ]
    },
    {
      "cell_type": "code",
      "source": [
        "Telephone_book"
      ],
      "metadata": {
        "colab": {
          "base_uri": "https://localhost:8080/"
        },
        "id": "RKwHHBcRNrA8",
        "outputId": "9339a714-0227-48c2-d931-34abc39a836e"
      },
      "execution_count": 6,
      "outputs": [
        {
          "output_type": "execute_result",
          "data": {
            "text/plain": [
              "{'1111111111': 'Amal',\n",
              " '2222222222': 'Mohammed',\n",
              " '3333333333': 'Awatef',\n",
              " '4444444444': 'Nada',\n",
              " '5555555555': 'Rawan',\n",
              " '6666666666': 'Abdullah',\n",
              " '7777777777': 'Reem'}"
            ]
          },
          "metadata": {},
          "execution_count": 6
        }
      ]
    },
    {
      "cell_type": "code",
      "source": [
        "Telephone_book2"
      ],
      "metadata": {
        "colab": {
          "base_uri": "https://localhost:8080/"
        },
        "id": "iIWzuYgoN4bD",
        "outputId": "4e60ea8b-4371-4db9-8ae6-343556831081"
      },
      "execution_count": 7,
      "outputs": [
        {
          "output_type": "execute_result",
          "data": {
            "text/plain": [
              "{'Amal': '1111111111',\n",
              " 'Mohammed': '2222222222',\n",
              " 'Awatef': '3333333333',\n",
              " 'Nada': '4444444444',\n",
              " 'Rawan': '5555555555',\n",
              " 'Abdullah': '6666666666',\n",
              " 'Reem': '7777777777'}"
            ]
          },
          "metadata": {},
          "execution_count": 7
        }
      ]
    },
    {
      "cell_type": "code",
      "source": [
        "add_number()"
      ],
      "metadata": {
        "colab": {
          "base_uri": "https://localhost:8080/"
        },
        "id": "FNCS4S3dN7-D",
        "outputId": "81f95631-ae45-40b9-d2c4-0ca96ac054f5"
      },
      "execution_count": 29,
      "outputs": [
        {
          "output_type": "stream",
          "name": "stdout",
          "text": [
            "Add your phone number:  2222222222\n",
            "Write your name: Mojhagahahh\n",
            "This phone number is already exist\n"
          ]
        }
      ]
    },
    {
      "cell_type": "code",
      "source": [
        "add_number()"
      ],
      "metadata": {
        "colab": {
          "base_uri": "https://localhost:8080/"
        },
        "id": "dO-Kft40OUyM",
        "outputId": "1bb9bddd-1542-4e4e-fd33-8c56a9e8bc7a"
      },
      "execution_count": 30,
      "outputs": [
        {
          "output_type": "stream",
          "name": "stdout",
          "text": [
            "Add your phone number:  3464756\n",
            "Write your name: Aas\n",
            "This is invalid number\n"
          ]
        }
      ]
    },
    {
      "cell_type": "code",
      "source": [
        "add_number()"
      ],
      "metadata": {
        "colab": {
          "base_uri": "https://localhost:8080/"
        },
        "id": "xNZY0a60ObfT",
        "outputId": "cbaf3442-22b2-4a77-8051-d28e8a3fb3b3"
      },
      "execution_count": 31,
      "outputs": [
        {
          "output_type": "stream",
          "name": "stdout",
          "text": [
            "Add your phone number:  0531468590\n",
            "Write your name: Moha3med\n",
            "This is invalid name\n"
          ]
        }
      ]
    },
    {
      "cell_type": "code",
      "source": [
        "add_number()"
      ],
      "metadata": {
        "colab": {
          "base_uri": "https://localhost:8080/"
        },
        "id": "V-0KngkfPR1R",
        "outputId": "9c9e8fd8-9580-43b1-ce1b-2c2dd3bf3e4b"
      },
      "execution_count": 47,
      "outputs": [
        {
          "output_type": "stream",
          "name": "stdout",
          "text": [
            "Add your phone number:  0531468590\n",
            "Write your name: Mohammed\n",
            "Your number has been added None\n",
            "Your name has been added None\n"
          ]
        }
      ]
    },
    {
      "cell_type": "code",
      "source": [
        "Telephone_book2"
      ],
      "metadata": {
        "colab": {
          "base_uri": "https://localhost:8080/"
        },
        "id": "V16fe-z3PiCE",
        "outputId": "237603bf-3e95-48ca-bd24-3ac04337a3d9"
      },
      "execution_count": 48,
      "outputs": [
        {
          "output_type": "execute_result",
          "data": {
            "text/plain": [
              "{'Amal': '1111111111',\n",
              " 'Mohammed': '0531468590',\n",
              " 'Awatef': '3333333333',\n",
              " 'Nada': '4444444444',\n",
              " 'Rawan': '5555555555',\n",
              " 'Abdullah': '6666666666',\n",
              " 'Reem': '7777777777',\n",
              " 'Ali': '8888888888'}"
            ]
          },
          "metadata": {},
          "execution_count": 48
        }
      ]
    },
    {
      "cell_type": "code",
      "source": [
        "Telephone_book"
      ],
      "metadata": {
        "colab": {
          "base_uri": "https://localhost:8080/"
        },
        "id": "9tbtvMgqRVt4",
        "outputId": "f064de04-3df2-4009-b4d3-5dc3140db73e"
      },
      "execution_count": 49,
      "outputs": [
        {
          "output_type": "execute_result",
          "data": {
            "text/plain": [
              "{'1111111111': 'Amal',\n",
              " '2222222222': 'Mohammed',\n",
              " '3333333333': 'Awatef',\n",
              " '4444444444': 'Nada',\n",
              " '5555555555': 'Rawan',\n",
              " '6666666666': 'Abdullah',\n",
              " '7777777777': 'Reem',\n",
              " '8888888888': 'Ali',\n",
              " '0531468590': 'Mohammed'}"
            ]
          },
          "metadata": {},
          "execution_count": 49
        }
      ]
    }
  ]
}